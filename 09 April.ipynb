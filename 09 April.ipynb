{
 "cells": [
  {
   "cell_type": "code",
   "execution_count": 1,
   "id": "6c31ead1-342a-4394-a683-90adb7a8a561",
   "metadata": {},
   "outputs": [
    {
     "data": {
      "text/plain": [
       "\"Bayes' Theorem:\\n   Bayes' Theorem states that the conditional probability of an event, based on the occurrence of another event, is equal\\n   to the likelihood of the second event given the first event multiplied by the probability of the first event.\\n\""
      ]
     },
     "execution_count": 1,
     "metadata": {},
     "output_type": "execute_result"
    }
   ],
   "source": [
    "# Q1\n",
    "'''Bayes' Theorem:\n",
    "   Bayes' Theorem states that the conditional probability of an event, based on the occurrence of another event, is equal\n",
    "   to the likelihood of the second event given the first event multiplied by the probability of the first event.\n",
    "'''"
   ]
  },
  {
   "cell_type": "code",
   "execution_count": 2,
   "id": "64305f38-0b93-48e4-92be-6de439fc882b",
   "metadata": {},
   "outputs": [
    {
     "data": {
      "text/plain": [
       "\"the formula for Bayes' theorem:\\n  P(A/B) = (P(A)* P(B/A)) / P(B)\""
      ]
     },
     "execution_count": 2,
     "metadata": {},
     "output_type": "execute_result"
    }
   ],
   "source": [
    "# Q2\n",
    "'''the formula for Bayes' theorem:\n",
    "  P(A/B) = (P(A)* P(B/A)) / P(B)'''"
   ]
  },
  {
   "cell_type": "code",
   "execution_count": 1,
   "id": "3a89dd96-27df-489c-a387-3fe039f6b9f9",
   "metadata": {},
   "outputs": [
    {
     "data": {
      "text/plain": [
       "\"Apply Bayes' Theorem :\\n1. P(A|B): The probability of event A, given event B has occurred.\\n2. P(B|A): The probability of event B, given event A has occurred.\\n3. P(A): The probability of event A.\\n4. P(B): The probability of event B.\\n\""
      ]
     },
     "execution_count": 1,
     "metadata": {},
     "output_type": "execute_result"
    }
   ],
   "source": [
    "# Q3\n",
    "'''Apply Bayes' Theorem :\n",
    "1. P(A|B): The probability of event A, given event B has occurred.\n",
    "2. P(B|A): The probability of event B, given event A has occurred.\n",
    "3. P(A): The probability of event A.\n",
    "4. P(B): The probability of event B.\n",
    "'''"
   ]
  },
  {
   "cell_type": "code",
   "execution_count": 1,
   "id": "66aa91c5-198b-4cfb-a4e2-e3fe4510aa74",
   "metadata": {},
   "outputs": [
    {
     "data": {
      "text/plain": [
       "'Conditional Probability is the probability of occurrence of a certain event, say $A$, based on some other event whether \\n   $B$ is true or not. Bayes Theorem includes two conditional probabilities for the events, say $A$ and $B$.\\n   '"
      ]
     },
     "execution_count": 1,
     "metadata": {},
     "output_type": "execute_result"
    }
   ],
   "source": [
    "# Q4\n",
    "'''Conditional Probability is the probability of occurrence of a certain event, say $A$, based on some other event whether \n",
    "   $B$ is true or not. Bayes Theorem includes two conditional probabilities for the events, say $A$ and $B$.\n",
    "   '''"
   ]
  },
  {
   "cell_type": "code",
   "execution_count": 2,
   "id": "b92d1d54-414b-450d-a300-3b094183f73e",
   "metadata": {},
   "outputs": [
    {
     "data": {
      "text/plain": [
       "'Step 1: Calculate the prior probability for given class labels.\\n   Step 2: Find Likelihood probability with each attribute for each class.\\n   Step 3: Put these value in Bayes Formula and calculate posterior probability. \\n   Step 4: See which class has a higher probability, given the input belongs to the higher probability class.\\n'"
      ]
     },
     "execution_count": 2,
     "metadata": {},
     "output_type": "execute_result"
    }
   ],
   "source": [
    "# Q5\n",
    "'''Step 1: Calculate the prior probability for given class labels.\n",
    "   Step 2: Find Likelihood probability with each attribute for each class.\n",
    "   Step 3: Put these value in Bayes Formula and calculate posterior probability. \n",
    "   Step 4: See which class has a higher probability, given the input belongs to the higher probability class.\n",
    "'''"
   ]
  },
  {
   "cell_type": "code",
   "execution_count": 11,
   "id": "cc5ee4f8-b2d2-4bd4-a1eb-67b47b2a7737",
   "metadata": {},
   "outputs": [
    {
     "data": {
      "text/html": [
       "<div>\n",
       "<style scoped>\n",
       "    .dataframe tbody tr th:only-of-type {\n",
       "        vertical-align: middle;\n",
       "    }\n",
       "\n",
       "    .dataframe tbody tr th {\n",
       "        vertical-align: top;\n",
       "    }\n",
       "\n",
       "    .dataframe thead th {\n",
       "        text-align: right;\n",
       "    }\n",
       "</style>\n",
       "<table border=\"1\" class=\"dataframe\">\n",
       "  <thead>\n",
       "    <tr style=\"text-align: right;\">\n",
       "      <th></th>\n",
       "      <th>class</th>\n",
       "      <th>x1=1</th>\n",
       "      <th>x1=2</th>\n",
       "      <th>x1=3</th>\n",
       "      <th>x2=1</th>\n",
       "      <th>x2=2</th>\n",
       "      <th>x2=3</th>\n",
       "      <th>x2=4</th>\n",
       "    </tr>\n",
       "  </thead>\n",
       "  <tbody>\n",
       "    <tr>\n",
       "      <th>0</th>\n",
       "      <td>A</td>\n",
       "      <td>3</td>\n",
       "      <td>3</td>\n",
       "      <td>4</td>\n",
       "      <td>4</td>\n",
       "      <td>3</td>\n",
       "      <td>3</td>\n",
       "      <td>3</td>\n",
       "    </tr>\n",
       "    <tr>\n",
       "      <th>1</th>\n",
       "      <td>B</td>\n",
       "      <td>2</td>\n",
       "      <td>2</td>\n",
       "      <td>1</td>\n",
       "      <td>2</td>\n",
       "      <td>2</td>\n",
       "      <td>2</td>\n",
       "      <td>3</td>\n",
       "    </tr>\n",
       "  </tbody>\n",
       "</table>\n",
       "</div>"
      ],
      "text/plain": [
       "  class  x1=1  x1=2  x1=3  x2=1  x2=2  x2=3  x2=4\n",
       "0     A     3     3     4     4     3     3     3\n",
       "1     B     2     2     1     2     2     2     3"
      ]
     },
     "execution_count": 11,
     "metadata": {},
     "output_type": "execute_result"
    }
   ],
   "source": [
    "# Q6\n",
    "import pandas as pd\n",
    "df = pd.DataFrame({'class':['A','B'], 'x1=1':[3, 2], 'x1=2':[3, 2], 'x1=3':[4, 1], 'x2=1':[4, 2],\n",
    "                   'x2=2':[3, 2], 'x2=3':[3, 2], 'x2=4':[3, 3]\n",
    "               })\n",
    "from sklearn.model_selection import train_test_split\n",
    "df"
   ]
  },
  {
   "cell_type": "code",
   "execution_count": 18,
   "id": "75fc1f78-0e46-4e72-b2f2-1c1165a43cc9",
   "metadata": {},
   "outputs": [],
   "source": [
    "X=df.iloc[:,:-1]\n",
    "y=df.loc[:-1]"
   ]
  },
  {
   "cell_type": "code",
   "execution_count": null,
   "id": "d4b6d9a3-f359-4674-b2cd-85ccb4e1cb6b",
   "metadata": {},
   "outputs": [],
   "source": [
    "X_train, X_test, y_train, y_test = train_test_split(X, y, test_size=0.3, random_state=1)"
   ]
  },
  {
   "cell_type": "code",
   "execution_count": null,
   "id": "5bb20bdc-7bc7-4e15-b666-9650eb38b2c4",
   "metadata": {},
   "outputs": [],
   "source": [
    "from sklearn.naive_bayes import GaussianNB\n",
    "gnb=GaussianNB()\n",
    "gnb.fit(X_train,y_train)"
   ]
  },
  {
   "cell_type": "code",
   "execution_count": null,
   "id": "3831c489-ff0a-4bb9-abd4-4060ac58a414",
   "metadata": {},
   "outputs": [],
   "source": [
    "y_pred=gnb.predict(X_test)"
   ]
  },
  {
   "cell_type": "code",
   "execution_count": null,
   "id": "e6a0d0ff-df05-4500-843a-dbbe489efafb",
   "metadata": {},
   "outputs": [],
   "source": [
    "from sklearn.metrics import accuracy_score,classification_report,confusion_matrix"
   ]
  },
  {
   "cell_type": "code",
   "execution_count": null,
   "id": "afeeaa05-8a2f-4596-ada2-da5872a395ba",
   "metadata": {},
   "outputs": [],
   "source": [
    "print(confusion_matrix(y_pred,y_test))\n",
    "print(accuracy_score(y_pred,y_test))\n",
    "print(classification_report(y_pred,y_test))"
   ]
  },
  {
   "cell_type": "code",
   "execution_count": null,
   "id": "5225f3aa-8e30-48fb-976b-01a3d8c2dc05",
   "metadata": {},
   "outputs": [],
   "source": []
  },
  {
   "cell_type": "code",
   "execution_count": null,
   "id": "a35ac788-008f-4d0e-88e5-63f32061ee3b",
   "metadata": {},
   "outputs": [],
   "source": []
  },
  {
   "cell_type": "code",
   "execution_count": null,
   "id": "b674dc04-0347-4f2a-be9d-5f9416999338",
   "metadata": {},
   "outputs": [],
   "source": []
  },
  {
   "cell_type": "code",
   "execution_count": null,
   "id": "ea0be6cf-e757-43e3-8503-4b10a9ee2766",
   "metadata": {},
   "outputs": [],
   "source": []
  }
 ],
 "metadata": {
  "kernelspec": {
   "display_name": "Python 3 (ipykernel)",
   "language": "python",
   "name": "python3"
  },
  "language_info": {
   "codemirror_mode": {
    "name": "ipython",
    "version": 3
   },
   "file_extension": ".py",
   "mimetype": "text/x-python",
   "name": "python",
   "nbconvert_exporter": "python",
   "pygments_lexer": "ipython3",
   "version": "3.10.8"
  }
 },
 "nbformat": 4,
 "nbformat_minor": 5
}
